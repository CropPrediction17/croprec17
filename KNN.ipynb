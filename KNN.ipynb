{
 "cells": [
  {
   "cell_type": "code",
   "execution_count": 2,
   "id": "43bcf031",
   "metadata": {},
   "outputs": [],
   "source": [
    "import numpy as np\n",
    "import matplotlib.pyplot as plt\n",
    "import pandas as pd\n",
    "\n"
   ]
  },
  {
   "cell_type": "code",
   "execution_count": 3,
   "id": "36262be8",
   "metadata": {},
   "outputs": [
    {
     "data": {
      "text/html": [
       "<div>\n",
       "<style scoped>\n",
       "    .dataframe tbody tr th:only-of-type {\n",
       "        vertical-align: middle;\n",
       "    }\n",
       "\n",
       "    .dataframe tbody tr th {\n",
       "        vertical-align: top;\n",
       "    }\n",
       "\n",
       "    .dataframe thead th {\n",
       "        text-align: right;\n",
       "    }\n",
       "</style>\n",
       "<table border=\"1\" class=\"dataframe\">\n",
       "  <thead>\n",
       "    <tr style=\"text-align: right;\">\n",
       "      <th></th>\n",
       "      <th>N</th>\n",
       "      <th>P</th>\n",
       "      <th>K</th>\n",
       "      <th>temperature</th>\n",
       "      <th>humidity</th>\n",
       "      <th>ph</th>\n",
       "      <th>rainfall</th>\n",
       "      <th>label</th>\n",
       "    </tr>\n",
       "  </thead>\n",
       "  <tbody>\n",
       "    <tr>\n",
       "      <th>0</th>\n",
       "      <td>90</td>\n",
       "      <td>42</td>\n",
       "      <td>43</td>\n",
       "      <td>20.879744</td>\n",
       "      <td>82.002744</td>\n",
       "      <td>6.502985</td>\n",
       "      <td>202.935536</td>\n",
       "      <td>rice</td>\n",
       "    </tr>\n",
       "    <tr>\n",
       "      <th>1</th>\n",
       "      <td>85</td>\n",
       "      <td>58</td>\n",
       "      <td>41</td>\n",
       "      <td>21.770462</td>\n",
       "      <td>80.319644</td>\n",
       "      <td>7.038096</td>\n",
       "      <td>226.655537</td>\n",
       "      <td>rice</td>\n",
       "    </tr>\n",
       "    <tr>\n",
       "      <th>2</th>\n",
       "      <td>60</td>\n",
       "      <td>55</td>\n",
       "      <td>44</td>\n",
       "      <td>23.004459</td>\n",
       "      <td>82.320763</td>\n",
       "      <td>7.840207</td>\n",
       "      <td>263.964248</td>\n",
       "      <td>rice</td>\n",
       "    </tr>\n",
       "    <tr>\n",
       "      <th>3</th>\n",
       "      <td>74</td>\n",
       "      <td>35</td>\n",
       "      <td>40</td>\n",
       "      <td>26.491096</td>\n",
       "      <td>80.158363</td>\n",
       "      <td>6.980401</td>\n",
       "      <td>242.864034</td>\n",
       "      <td>rice</td>\n",
       "    </tr>\n",
       "    <tr>\n",
       "      <th>4</th>\n",
       "      <td>78</td>\n",
       "      <td>42</td>\n",
       "      <td>42</td>\n",
       "      <td>20.130175</td>\n",
       "      <td>81.604873</td>\n",
       "      <td>7.628473</td>\n",
       "      <td>262.717340</td>\n",
       "      <td>rice</td>\n",
       "    </tr>\n",
       "  </tbody>\n",
       "</table>\n",
       "</div>"
      ],
      "text/plain": [
       "    N   P   K  temperature   humidity        ph    rainfall label\n",
       "0  90  42  43    20.879744  82.002744  6.502985  202.935536  rice\n",
       "1  85  58  41    21.770462  80.319644  7.038096  226.655537  rice\n",
       "2  60  55  44    23.004459  82.320763  7.840207  263.964248  rice\n",
       "3  74  35  40    26.491096  80.158363  6.980401  242.864034  rice\n",
       "4  78  42  42    20.130175  81.604873  7.628473  262.717340  rice"
      ]
     },
     "execution_count": 3,
     "metadata": {},
     "output_type": "execute_result"
    }
   ],
   "source": [
    "dataset = pd.read_csv(\"Crop_recommendation.csv\")\n",
    "dataset.head()"
   ]
  },
  {
   "cell_type": "code",
   "execution_count": 4,
   "id": "ab75f293",
   "metadata": {},
   "outputs": [],
   "source": [
    "X = dataset.iloc[:, :-1].values\n",
    "y = dataset.iloc[:, -1].values"
   ]
  },
  {
   "cell_type": "code",
   "execution_count": 5,
   "id": "80612c03",
   "metadata": {},
   "outputs": [
    {
     "name": "stdout",
     "output_type": "stream",
     "text": [
      "[[ 90.          42.          43.         ...  82.00274423   6.50298529\n",
      "  202.9355362 ]\n",
      " [ 85.          58.          41.         ...  80.31964408   7.03809636\n",
      "  226.6555374 ]\n",
      " [ 60.          55.          44.         ...  82.3207629    7.84020714\n",
      "  263.9642476 ]\n",
      " ...\n",
      " [118.          33.          30.         ...  67.22512329   6.36260785\n",
      "  173.3228386 ]\n",
      " [117.          32.          34.         ...  52.12739421   6.75879255\n",
      "  127.1752928 ]\n",
      " [104.          18.          30.         ...  60.39647474   6.77983261\n",
      "  140.9370415 ]]\n"
     ]
    }
   ],
   "source": [
    "print(X)"
   ]
  },
  {
   "cell_type": "code",
   "execution_count": 6,
   "id": "0a3b018a",
   "metadata": {},
   "outputs": [
    {
     "name": "stdout",
     "output_type": "stream",
     "text": [
      "['rice' 'rice' 'rice' ... 'coffee' 'coffee' 'coffee']\n"
     ]
    }
   ],
   "source": [
    "print(y)"
   ]
  },
  {
   "cell_type": "code",
   "execution_count": 7,
   "id": "2ffb2f4e",
   "metadata": {},
   "outputs": [
    {
     "name": "stdout",
     "output_type": "stream",
     "text": [
      "[20 20 20 ...  5  5  5]\n"
     ]
    }
   ],
   "source": [
    "from sklearn.preprocessing import LabelEncoder\n",
    "le=LabelEncoder()\n",
    "y=le.fit_transform(y)\n",
    "print(y)"
   ]
  },
  {
   "cell_type": "code",
   "execution_count": 8,
   "id": "4e32a80d",
   "metadata": {},
   "outputs": [],
   "source": [
    "from sklearn.model_selection import train_test_split\n",
    "X_train, X_test, y_train, y_test = train_test_split(X, y, test_size = 0.2, random_state = 5)"
   ]
  },
  {
   "cell_type": "code",
   "execution_count": 9,
   "id": "5935384a",
   "metadata": {},
   "outputs": [
    {
     "name": "stdout",
     "output_type": "stream",
     "text": [
      "[[ 31.          53.          16.         ...  85.81675947   6.45200645\n",
      "   48.54598575]\n",
      " [ 90.          39.          43.         ...  82.286484     6.7693455\n",
      "  190.9684885 ]\n",
      " [ 23.         142.         197.         ...  82.03812973   6.00057372\n",
      "   69.30772897]\n",
      " ...\n",
      " [ 83.          21.          28.         ...  60.49244602   7.46690068\n",
      "  190.2257843 ]\n",
      " [102.          25.          50.         ...  92.91440379   6.09966237\n",
      "   20.36001144]\n",
      " [ 47.          46.          52.         ...  91.40301608   6.50228947\n",
      "  206.3999208 ]]\n"
     ]
    }
   ],
   "source": [
    "print(X_train)"
   ]
  },
  {
   "cell_type": "code",
   "execution_count": 10,
   "id": "e293c27b",
   "metadata": {},
   "outputs": [
    {
     "name": "stdout",
     "output_type": "stream",
     "text": [
      "[[  6.         140.         205.         ...  82.92903419   6.3130856\n",
      "   69.8671263 ]\n",
      " [ 98.          22.          47.         ...  91.91533173   6.34140092\n",
      "   28.83568362]\n",
      " [ 38.          14.          30.         ...  91.20106019   5.57074539\n",
      "  194.9022136 ]\n",
      " ...\n",
      " [118.          31.          34.         ...  62.88179198   6.12379606\n",
      "  181.4170812 ]\n",
      " [ 90.          86.          52.         ...  81.95580471   5.79326026\n",
      "  119.0856171 ]\n",
      " [ 27.          74.          20.         ...  59.96669215   5.85981342\n",
      "   91.95792434]]\n"
     ]
    }
   ],
   "source": [
    "print(X_test)"
   ]
  },
  {
   "cell_type": "code",
   "execution_count": 11,
   "id": "7f8d9a85",
   "metadata": {},
   "outputs": [
    {
     "name": "stdout",
     "output_type": "stream",
     "text": [
      "[14  8  7 ...  5 15 17]\n"
     ]
    }
   ],
   "source": [
    "print(y_train)"
   ]
  },
  {
   "cell_type": "code",
   "execution_count": 12,
   "id": "d5a50b8e",
   "metadata": {},
   "outputs": [
    {
     "name": "stdout",
     "output_type": "stream",
     "text": [
      "[ 7 15  4  3 21 17 17 19 18  0  4 17 19 11  2  3  6 15 13 19 15  3  5 19\n",
      "  2  8 16 21 20 16  0 13  8  8  1 13 17 14  9  2 12  3 11 17  1  2  4 16\n",
      " 16 11  5 13 18 16 12 16 15 18 14 13  6  2  3  6 14 14  3 17  4  1 20 11\n",
      " 19 21  1  9 17  0  7  3  3  1  0 11  0 15  1  3 20 17 18 16 12  5 15 19\n",
      " 18 21  5  7 20  4 11 11 13  2 16 18 18 11 18 12 12 19 10  2 18 15  0 10\n",
      "  4 15 10 11 12  5  6  2  5 18  2 11  4  5 16  4 14  2 11  0 16 11  0 17\n",
      " 15 19  2 19 13 14  7  1 10 20 18  5 14 13 21  8 10  0 20 14 14 16  8  9\n",
      " 18 18 15  7 11 12  9  3 21 19 10 10 21  7 17  5  0  4 21 17  6  8  5  3\n",
      "  0 19 17  7 11 21  4  1 17 11  2  6 20 13  5  4 11 14 13 10  3  6 15 21\n",
      " 11 11  2 15 17  0 16  5  0  6 20 21 17 16 21  3 21 20  6 14 13 15  2 18\n",
      " 13 16  0 10  5  8 15  9 21 10 21 16 18 18  4  7 12  9 10  4 19  5  0  7\n",
      " 15  2 15 20 13 20 13  2 17  8  5  5 12  1  5 13 14 16 18  9 16  8 20 10\n",
      "  9 11  1  7  2 11 11  0  6 20 21  8  3 11  4 16 20 15 19  7 21 10  1  5\n",
      " 10  3  5 16  9 21  2  6 10 18 10 12 12  9 13 17  8  0  5 21  2  7 18 13\n",
      " 11  7 17 20 15 10  1 21 11 13  2 16  8 14  1  7  5  0  0 19 16 11 18 14\n",
      " 12  8  9  1 15 17 14  0 19 21 10 14  3 15  9  7 12 18  0 21  2  7 21 16\n",
      " 15  5 21  0 14  0  4 12 13  9 11  6 11  3  9 12  4 12  4 18 14  2  0 19\n",
      " 15 21  5 16 15 17  5 12 13  3 14 19  3  4 13  6 13 18 21 21  9  7  4  8\n",
      "  9 12 15  4  8  5  1 18]\n"
     ]
    }
   ],
   "source": [
    "print(y_test)"
   ]
  },
  {
   "cell_type": "code",
   "execution_count": 13,
   "id": "79e29fb5",
   "metadata": {},
   "outputs": [],
   "source": [
    "#from sklearn.preprocessing import StandardScaler\n",
    "#sc = StandardScaler()\n",
    "#X_train = sc.fit_transform(X_train)\n",
    "#X_test = sc.fit_transform(X_test)"
   ]
  },
  {
   "cell_type": "code",
   "execution_count": 14,
   "id": "fb31a509",
   "metadata": {},
   "outputs": [
    {
     "name": "stdout",
     "output_type": "stream",
     "text": [
      "[[ 31.          53.          16.         ...  85.81675947   6.45200645\n",
      "   48.54598575]\n",
      " [ 90.          39.          43.         ...  82.286484     6.7693455\n",
      "  190.9684885 ]\n",
      " [ 23.         142.         197.         ...  82.03812973   6.00057372\n",
      "   69.30772897]\n",
      " ...\n",
      " [ 83.          21.          28.         ...  60.49244602   7.46690068\n",
      "  190.2257843 ]\n",
      " [102.          25.          50.         ...  92.91440379   6.09966237\n",
      "   20.36001144]\n",
      " [ 47.          46.          52.         ...  91.40301608   6.50228947\n",
      "  206.3999208 ]]\n"
     ]
    }
   ],
   "source": [
    "print(X_train)"
   ]
  },
  {
   "cell_type": "code",
   "execution_count": 15,
   "id": "8ea73bc3",
   "metadata": {},
   "outputs": [
    {
     "name": "stdout",
     "output_type": "stream",
     "text": [
      "[[  6.         140.         205.         ...  82.92903419   6.3130856\n",
      "   69.8671263 ]\n",
      " [ 98.          22.          47.         ...  91.91533173   6.34140092\n",
      "   28.83568362]\n",
      " [ 38.          14.          30.         ...  91.20106019   5.57074539\n",
      "  194.9022136 ]\n",
      " ...\n",
      " [118.          31.          34.         ...  62.88179198   6.12379606\n",
      "  181.4170812 ]\n",
      " [ 90.          86.          52.         ...  81.95580471   5.79326026\n",
      "  119.0856171 ]\n",
      " [ 27.          74.          20.         ...  59.96669215   5.85981342\n",
      "   91.95792434]]\n"
     ]
    }
   ],
   "source": [
    "print(X_test)"
   ]
  },
  {
   "cell_type": "code",
   "execution_count": 16,
   "id": "684437f2",
   "metadata": {},
   "outputs": [
    {
     "data": {
      "text/plain": [
       "KNeighborsClassifier(n_neighbors=1)"
      ]
     },
     "execution_count": 16,
     "metadata": {},
     "output_type": "execute_result"
    }
   ],
   "source": [
    "from sklearn.neighbors import KNeighborsClassifier\n",
    "classifier = KNeighborsClassifier(n_neighbors =1 , metric = 'minkowski')\n",
    "classifier.fit(X_train, y_train)"
   ]
  },
  {
   "cell_type": "code",
   "execution_count": 17,
   "id": "0a5d8c4a",
   "metadata": {},
   "outputs": [
    {
     "name": "stdout",
     "output_type": "stream",
     "text": [
      "[11]\n"
     ]
    }
   ],
   "source": [
    "print(classifier.predict(([[71, 54, 16, 22.61359953, 63.69070564, 5.749914421, 87.75953857]])))"
   ]
  },
  {
   "cell_type": "code",
   "execution_count": 18,
   "id": "3e6fa76d",
   "metadata": {},
   "outputs": [],
   "source": [
    "y_pred = classifier.predict(X_test)"
   ]
  },
  {
   "cell_type": "code",
   "execution_count": 19,
   "id": "27bb3649",
   "metadata": {},
   "outputs": [
    {
     "name": "stdout",
     "output_type": "stream",
     "text": [
      "[[24  0  0  0  0  0  0  0  0  0  0  0  0  0  0  0  0  0  0  0  0  0]\n",
      " [ 0 15  0  0  0  0  0  0  0  0  0  0  0  0  0  0  0  0  0  0  0  0]\n",
      " [ 0  0 22  0  0  0  0  0  0  0  0  0  0  0  0  0  0  0  0  0  0  0]\n",
      " [ 0  0  0 19  0  0  0  0  0  0  0  0  0  0  0  0  0  0  0  0  0  0]\n",
      " [ 0  0  0  0 20  0  0  0  0  0  0  0  0  0  0  0  0  0  0  0  0  0]\n",
      " [ 0  0  0  0  0 25  0  0  0  0  0  0  0  0  0  0  0  0  0  0  0  0]\n",
      " [ 0  0  0  0  0  0 13  0  0  0  0  0  0  0  0  0  0  0  0  0  0  0]\n",
      " [ 0  0  0  0  0  0  0 17  0  0  0  0  0  0  0  0  0  0  0  0  0  0]\n",
      " [ 0  0  0  0  0  0  0  0 13  0  0  0  0  0  0  0  0  0  0  0  2  0]\n",
      " [ 0  0  0  0  0  0  0  0  0 16  0  0  0  0  0  0  0  0  0  0  0  0]\n",
      " [ 0  0  0  0  0  0  0  0  0  0 18  0  0  0  0  0  0  0  0  0  0  0]\n",
      " [ 0  0  0  0  0  0  0  0  0  0  0 27  0  0  0  0  0  0  0  0  0  0]\n",
      " [ 0  0  0  0  0  0  0  0  0  0  0  0 18  0  0  0  0  0  0  0  0  0]\n",
      " [ 0  0  0  0  0  0  0  0  0  0  0  0  0 22  0  0  0  0  0  0  0  0]\n",
      " [ 0  0  0  0  0  0  0  0  0  0  0  0  0  0 19  0  0  0  0  0  0  0]\n",
      " [ 0  0  0  0  0  0  0  0  0  0  0  0  0  0  0 24  0  0  0  0  0  0]\n",
      " [ 0  0  0  0  0  0  0  0  0  0  0  0  0  0  0  0 23  0  0  0  0  0]\n",
      " [ 0  0  0  0  0  0  0  0  0  0  0  0  0  0  0  0  0 20  0  0  0  0]\n",
      " [ 0  0  0  0  0  0  0  0  0  0  0  0  0  0  0  0  0  0 24  0  0  0]\n",
      " [ 0  0  0  0  0  0  0  0  0  0  0  0  0  0  0  0  0  0  0 17  0  0]\n",
      " [ 0  0  0  0  0  0  0  0  3  0  0  0  0  0  0  0  0  0  0  0 12  0]\n",
      " [ 0  0  0  0  0  0  0  0  0  0  0  0  0  0  0  0  0  0  0  0  0 27]]\n"
     ]
    }
   ],
   "source": [
    "from sklearn.metrics import confusion_matrix, accuracy_score,classification_report\n",
    "cm = confusion_matrix(y_test, y_pred)\n",
    "print(cm)"
   ]
  },
  {
   "cell_type": "code",
   "execution_count": 20,
   "id": "a3e1b996",
   "metadata": {},
   "outputs": [
    {
     "data": {
      "text/plain": [
       "0.9886363636363636"
      ]
     },
     "execution_count": 20,
     "metadata": {},
     "output_type": "execute_result"
    }
   ],
   "source": [
    "accuracy_score(y_test, y_pred)"
   ]
  },
  {
   "cell_type": "code",
   "execution_count": 21,
   "id": "fabcbd96",
   "metadata": {},
   "outputs": [
    {
     "name": "stdout",
     "output_type": "stream",
     "text": [
      "              precision    recall  f1-score   support\n",
      "\n",
      "           0       1.00      1.00      1.00        24\n",
      "           1       1.00      1.00      1.00        15\n",
      "           2       1.00      1.00      1.00        22\n",
      "           3       1.00      1.00      1.00        19\n",
      "           4       1.00      1.00      1.00        20\n",
      "           5       1.00      1.00      1.00        25\n",
      "           6       1.00      1.00      1.00        13\n",
      "           7       1.00      1.00      1.00        17\n",
      "           8       0.81      0.87      0.84        15\n",
      "           9       1.00      1.00      1.00        16\n",
      "          10       1.00      1.00      1.00        18\n",
      "          11       1.00      1.00      1.00        27\n",
      "          12       1.00      1.00      1.00        18\n",
      "          13       1.00      1.00      1.00        22\n",
      "          14       1.00      1.00      1.00        19\n",
      "          15       1.00      1.00      1.00        24\n",
      "          16       1.00      1.00      1.00        23\n",
      "          17       1.00      1.00      1.00        20\n",
      "          18       1.00      1.00      1.00        24\n",
      "          19       1.00      1.00      1.00        17\n",
      "          20       0.86      0.80      0.83        15\n",
      "          21       1.00      1.00      1.00        27\n",
      "\n",
      "    accuracy                           0.99       440\n",
      "   macro avg       0.98      0.98      0.98       440\n",
      "weighted avg       0.99      0.99      0.99       440\n",
      "\n"
     ]
    }
   ],
   "source": [
    "print(classification_report(y_test, y_pred))"
   ]
  },
  {
   "cell_type": "code",
   "execution_count": 603,
   "id": "98053f9b",
   "metadata": {},
   "outputs": [],
   "source": [
    "#model save\n",
    "\n",
    "import pickle\n",
    "file=open(\"model.pkl\",'wb')\n",
    "pickle.dump(classifier,file)"
   ]
  },
  {
   "cell_type": "code",
   "execution_count": null,
   "id": "72306b91",
   "metadata": {},
   "outputs": [],
   "source": []
  },
  {
   "cell_type": "code",
   "execution_count": null,
   "id": "8ea1cc16",
   "metadata": {},
   "outputs": [],
   "source": []
  },
  {
   "cell_type": "code",
   "execution_count": null,
   "id": "974b492a",
   "metadata": {},
   "outputs": [],
   "source": []
  }
 ],
 "metadata": {
  "interpreter": {
   "hash": "dc07d24e2f18896857f0b2a651fe84ba40ce7b297e58d8804a308c8039f752a6"
  },
  "kernelspec": {
   "display_name": "Python 3 (ipykernel)",
   "language": "python",
   "name": "python3"
  },
  "language_info": {
   "codemirror_mode": {
    "name": "ipython",
    "version": 3
   },
   "file_extension": ".py",
   "mimetype": "text/x-python",
   "name": "python",
   "nbconvert_exporter": "python",
   "pygments_lexer": "ipython3",
   "version": "3.9.12"
  }
 },
 "nbformat": 4,
 "nbformat_minor": 5
}
