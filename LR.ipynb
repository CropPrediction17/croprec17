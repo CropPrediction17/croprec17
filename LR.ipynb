{
 "cells": [
  {
   "cell_type": "code",
   "execution_count": 1,
   "id": "b6f0c565",
   "metadata": {},
   "outputs": [],
   "source": [
    "import numpy as np \n",
    "import matplotlib.pyplot as plt\n",
    "import pandas as pd\n"
   ]
  },
  {
   "cell_type": "code",
   "execution_count": 2,
   "id": "03ad92c6",
   "metadata": {},
   "outputs": [
    {
     "data": {
      "text/html": [
       "<div>\n",
       "<style scoped>\n",
       "    .dataframe tbody tr th:only-of-type {\n",
       "        vertical-align: middle;\n",
       "    }\n",
       "\n",
       "    .dataframe tbody tr th {\n",
       "        vertical-align: top;\n",
       "    }\n",
       "\n",
       "    .dataframe thead th {\n",
       "        text-align: right;\n",
       "    }\n",
       "</style>\n",
       "<table border=\"1\" class=\"dataframe\">\n",
       "  <thead>\n",
       "    <tr style=\"text-align: right;\">\n",
       "      <th></th>\n",
       "      <th>N</th>\n",
       "      <th>P</th>\n",
       "      <th>K</th>\n",
       "      <th>temperature</th>\n",
       "      <th>humidity</th>\n",
       "      <th>ph</th>\n",
       "      <th>rainfall</th>\n",
       "      <th>label</th>\n",
       "    </tr>\n",
       "  </thead>\n",
       "  <tbody>\n",
       "    <tr>\n",
       "      <th>0</th>\n",
       "      <td>90</td>\n",
       "      <td>42</td>\n",
       "      <td>43</td>\n",
       "      <td>20.879744</td>\n",
       "      <td>82.002744</td>\n",
       "      <td>6.502985</td>\n",
       "      <td>202.935536</td>\n",
       "      <td>rice</td>\n",
       "    </tr>\n",
       "    <tr>\n",
       "      <th>1</th>\n",
       "      <td>85</td>\n",
       "      <td>58</td>\n",
       "      <td>41</td>\n",
       "      <td>21.770462</td>\n",
       "      <td>80.319644</td>\n",
       "      <td>7.038096</td>\n",
       "      <td>226.655537</td>\n",
       "      <td>rice</td>\n",
       "    </tr>\n",
       "    <tr>\n",
       "      <th>2</th>\n",
       "      <td>60</td>\n",
       "      <td>55</td>\n",
       "      <td>44</td>\n",
       "      <td>23.004459</td>\n",
       "      <td>82.320763</td>\n",
       "      <td>7.840207</td>\n",
       "      <td>263.964248</td>\n",
       "      <td>rice</td>\n",
       "    </tr>\n",
       "    <tr>\n",
       "      <th>3</th>\n",
       "      <td>74</td>\n",
       "      <td>35</td>\n",
       "      <td>40</td>\n",
       "      <td>26.491096</td>\n",
       "      <td>80.158363</td>\n",
       "      <td>6.980401</td>\n",
       "      <td>242.864034</td>\n",
       "      <td>rice</td>\n",
       "    </tr>\n",
       "    <tr>\n",
       "      <th>4</th>\n",
       "      <td>78</td>\n",
       "      <td>42</td>\n",
       "      <td>42</td>\n",
       "      <td>20.130175</td>\n",
       "      <td>81.604873</td>\n",
       "      <td>7.628473</td>\n",
       "      <td>262.717340</td>\n",
       "      <td>rice</td>\n",
       "    </tr>\n",
       "  </tbody>\n",
       "</table>\n",
       "</div>"
      ],
      "text/plain": [
       "    N   P   K  temperature   humidity        ph    rainfall label\n",
       "0  90  42  43    20.879744  82.002744  6.502985  202.935536  rice\n",
       "1  85  58  41    21.770462  80.319644  7.038096  226.655537  rice\n",
       "2  60  55  44    23.004459  82.320763  7.840207  263.964248  rice\n",
       "3  74  35  40    26.491096  80.158363  6.980401  242.864034  rice\n",
       "4  78  42  42    20.130175  81.604873  7.628473  262.717340  rice"
      ]
     },
     "execution_count": 2,
     "metadata": {},
     "output_type": "execute_result"
    }
   ],
   "source": [
    "df=pd.read_csv('Crop_recommendation.csv')\n",
    "df.head(5)"
   ]
  },
  {
   "cell_type": "code",
   "execution_count": 3,
   "id": "906a7997",
   "metadata": {},
   "outputs": [],
   "source": [
    "copy_df=np.copy(df)"
   ]
  },
  {
   "cell_type": "code",
   "execution_count": 4,
   "id": "8856f36c",
   "metadata": {},
   "outputs": [],
   "source": [
    "X = df.iloc[:, :-1].values\n",
    "y = df.iloc[:, -1].values"
   ]
  },
  {
   "cell_type": "code",
   "execution_count": 5,
   "id": "88a2c2a0",
   "metadata": {},
   "outputs": [
    {
     "name": "stdout",
     "output_type": "stream",
     "text": [
      "[[ 90.          42.          43.         ...  82.00274423   6.50298529\n",
      "  202.9355362 ]\n",
      " [ 85.          58.          41.         ...  80.31964408   7.03809636\n",
      "  226.6555374 ]\n",
      " [ 60.          55.          44.         ...  82.3207629    7.84020714\n",
      "  263.9642476 ]\n",
      " ...\n",
      " [118.          33.          30.         ...  67.22512329   6.36260785\n",
      "  173.3228386 ]\n",
      " [117.          32.          34.         ...  52.12739421   6.75879255\n",
      "  127.1752928 ]\n",
      " [104.          18.          30.         ...  60.39647474   6.77983261\n",
      "  140.9370415 ]]\n"
     ]
    }
   ],
   "source": [
    "print(X)"
   ]
  },
  {
   "cell_type": "code",
   "execution_count": 6,
   "id": "a292da3c",
   "metadata": {},
   "outputs": [
    {
     "name": "stdout",
     "output_type": "stream",
     "text": [
      "['rice' 'rice' 'rice' ... 'coffee' 'coffee' 'coffee']\n"
     ]
    }
   ],
   "source": [
    "print(y)"
   ]
  },
  {
   "cell_type": "code",
   "execution_count": 7,
   "id": "09530e0b",
   "metadata": {},
   "outputs": [],
   "source": [
    "from sklearn.model_selection import train_test_split\n",
    "X_train, X_test, y_train, y_test = train_test_split(X, y, test_size= 0.2, random_state = 3)"
   ]
  },
  {
   "cell_type": "code",
   "execution_count": 8,
   "id": "468f5e51",
   "metadata": {},
   "outputs": [
    {
     "name": "stdout",
     "output_type": "stream",
     "text": [
      "[[ 60.          61.          78.         ...  19.83643308   6.31715321\n",
      "   94.03659867]\n",
      " [ 95.          39.          36.         ...  83.15250801   5.56139864\n",
      "  285.2493645 ]\n",
      " [  0.         123.         205.         ...  92.96129462   5.79099305\n",
      "  121.1349176 ]\n",
      " ...\n",
      " [ 36.          29.          13.         ...  90.91510525   7.82950725\n",
      "  109.7513927 ]\n",
      " [ 18.          14.          11.         ...  90.00621688   6.55081412\n",
      "  117.1311498 ]\n",
      " [ 37.           5.          34.         ...  93.84150618   5.77903267\n",
      "  152.4238712 ]]\n"
     ]
    }
   ],
   "source": [
    "print(X_train)"
   ]
  },
  {
   "cell_type": "code",
   "execution_count": 9,
   "id": "7b112553",
   "metadata": {},
   "outputs": [
    {
     "name": "stdout",
     "output_type": "stream",
     "text": [
      "[[ 31.          68.          45.         ...  90.07600528   6.93831336\n",
      "  196.2408242 ]\n",
      " [  0.          23.          15.         ...  93.37488907   7.59872906\n",
      "  109.8585753 ]\n",
      " [ 23.           7.          34.         ...  91.52421214   5.8520382\n",
      "  134.1279669 ]\n",
      " ...\n",
      " [ 93.          22.          48.         ...  91.52291141   6.77698797\n",
      "   21.90440445]\n",
      " [ 13.          28.          33.         ...  95.64807631   5.68697297\n",
      "  151.0761899 ]\n",
      " [ 94.           5.          55.         ...  91.89216849   6.08568234\n",
      "   26.88372572]]\n"
     ]
    }
   ],
   "source": [
    "print(X_test)"
   ]
  },
  {
   "cell_type": "code",
   "execution_count": 10,
   "id": "7ed3a482",
   "metadata": {},
   "outputs": [
    {
     "name": "stdout",
     "output_type": "stream",
     "text": [
      "['chickpea' 'rice' 'apple' ... 'orange' 'orange' 'coconut']\n"
     ]
    }
   ],
   "source": [
    "print(y_train)\n"
   ]
  },
  {
   "cell_type": "code",
   "execution_count": 11,
   "id": "a06e56df",
   "metadata": {},
   "outputs": [
    {
     "name": "stdout",
     "output_type": "stream",
     "text": [
      "['papaya' 'orange' 'coconut' 'coconut' 'pomegranate' 'grapes' 'mango'\n",
      " 'coconut' 'pomegranate' 'lentil' 'mothbeans' 'papaya' 'coffee'\n",
      " 'pigeonpeas' 'muskmelon' 'muskmelon' 'banana' 'pigeonpeas' 'mango'\n",
      " 'chickpea' 'cotton' 'grapes' 'blackgram' 'kidneybeans' 'kidneybeans'\n",
      " 'jute' 'kidneybeans' 'rice' 'kidneybeans' 'orange' 'muskmelon' 'grapes'\n",
      " 'mothbeans' 'grapes' 'rice' 'maize' 'watermelon' 'lentil' 'coconut'\n",
      " 'papaya' 'mango' 'jute' 'banana' 'lentil' 'grapes' 'kidneybeans' 'maize'\n",
      " 'coffee' 'chickpea' 'apple' 'kidneybeans' 'jute' 'blackgram' 'chickpea'\n",
      " 'mungbean' 'jute' 'coffee' 'mango' 'mothbeans' 'muskmelon' 'coconut'\n",
      " 'kidneybeans' 'mothbeans' 'chickpea' 'blackgram' 'coffee' 'watermelon'\n",
      " 'apple' 'watermelon' 'apple' 'orange' 'mungbean' 'orange' 'kidneybeans'\n",
      " 'grapes' 'mothbeans' 'jute' 'watermelon' 'muskmelon' 'cotton' 'grapes'\n",
      " 'coconut' 'orange' 'grapes' 'mothbeans' 'pomegranate' 'muskmelon'\n",
      " 'mungbean' 'maize' 'jute' 'pigeonpeas' 'chickpea' 'papaya' 'pigeonpeas'\n",
      " 'watermelon' 'jute' 'apple' 'mungbean' 'grapes' 'lentil' 'banana' 'jute'\n",
      " 'mungbean' 'banana' 'pomegranate' 'muskmelon' 'banana' 'orange' 'papaya'\n",
      " 'mothbeans' 'banana' 'lentil' 'rice' 'coconut' 'maize' 'coffee'\n",
      " 'pigeonpeas' 'lentil' 'rice' 'maize' 'pigeonpeas' 'muskmelon' 'coconut'\n",
      " 'mungbean' 'jute' 'mungbean' 'mungbean' 'orange' 'maize' 'lentil'\n",
      " 'watermelon' 'muskmelon' 'orange' 'mango' 'blackgram' 'chickpea'\n",
      " 'mungbean' 'coffee' 'blackgram' 'muskmelon' 'blackgram' 'mothbeans'\n",
      " 'cotton' 'apple' 'chickpea' 'orange' 'grapes' 'mothbeans' 'pomegranate'\n",
      " 'chickpea' 'apple' 'chickpea' 'mungbean' 'muskmelon' 'mungbean'\n",
      " 'pigeonpeas' 'coffee' 'mango' 'blackgram' 'coconut' 'banana' 'rice'\n",
      " 'kidneybeans' 'rice' 'pomegranate' 'rice' 'rice' 'cotton' 'muskmelon'\n",
      " 'papaya' 'rice' 'chickpea' 'rice' 'orange' 'mothbeans' 'muskmelon'\n",
      " 'chickpea' 'blackgram' 'banana' 'apple' 'mungbean' 'rice' 'watermelon'\n",
      " 'pigeonpeas' 'apple' 'orange' 'orange' 'pigeonpeas' 'grapes' 'jute'\n",
      " 'jute' 'mothbeans' 'coconut' 'rice' 'mango' 'pigeonpeas' 'coffee'\n",
      " 'grapes' 'muskmelon' 'rice' 'coconut' 'pigeonpeas' 'kidneybeans' 'grapes'\n",
      " 'coffee' 'kidneybeans' 'chickpea' 'mungbean' 'kidneybeans' 'kidneybeans'\n",
      " 'rice' 'chickpea' 'maize' 'lentil' 'orange' 'kidneybeans' 'lentil'\n",
      " 'coconut' 'watermelon' 'pomegranate' 'mothbeans' 'kidneybeans' 'grapes'\n",
      " 'pomegranate' 'pomegranate' 'apple' 'rice' 'maize' 'blackgram'\n",
      " 'watermelon' 'blackgram' 'pigeonpeas' 'cotton' 'maize' 'chickpea'\n",
      " 'coffee' 'banana' 'watermelon' 'chickpea' 'muskmelon' 'orange'\n",
      " 'watermelon' 'watermelon' 'watermelon' 'blackgram' 'blackgram' 'coconut'\n",
      " 'lentil' 'grapes' 'coffee' 'grapes' 'mungbean' 'coffee' 'cotton' 'coffee'\n",
      " 'mango' 'cotton' 'chickpea' 'coffee' 'mungbean' 'coconut' 'papaya'\n",
      " 'maize' 'chickpea' 'coffee' 'kidneybeans' 'pigeonpeas' 'jute'\n",
      " 'pomegranate' 'maize' 'papaya' 'coconut' 'cotton' 'cotton' 'maize' 'jute'\n",
      " 'mothbeans' 'pomegranate' 'maize' 'lentil' 'chickpea' 'watermelon'\n",
      " 'lentil' 'coffee' 'papaya' 'banana' 'mango' 'watermelon' 'blackgram'\n",
      " 'mango' 'rice' 'mango' 'pigeonpeas' 'mango' 'grapes' 'muskmelon'\n",
      " 'blackgram' 'rice' 'coffee' 'muskmelon' 'blackgram' 'kidneybeans'\n",
      " 'orange' 'watermelon' 'mango' 'cotton' 'pigeonpeas' 'mothbeans' 'grapes'\n",
      " 'pomegranate' 'watermelon' 'apple' 'pomegranate' 'muskmelon' 'jute'\n",
      " 'coffee' 'coconut' 'jute' 'apple' 'mango' 'pomegranate' 'pigeonpeas'\n",
      " 'maize' 'maize' 'muskmelon' 'blackgram' 'papaya' 'mango' 'coconut' 'rice'\n",
      " 'kidneybeans' 'lentil' 'maize' 'papaya' 'pigeonpeas' 'coconut' 'grapes'\n",
      " 'watermelon' 'papaya' 'papaya' 'jute' 'mango' 'rice' 'blackgram' 'orange'\n",
      " 'chickpea' 'cotton' 'grapes' 'rice' 'mothbeans' 'chickpea' 'apple'\n",
      " 'grapes' 'cotton' 'muskmelon' 'apple' 'pomegranate' 'maize' 'maize'\n",
      " 'coffee' 'apple' 'coconut' 'watermelon' 'coconut' 'lentil' 'mothbeans'\n",
      " 'banana' 'banana' 'kidneybeans' 'coffee' 'kidneybeans' 'orange' 'coffee'\n",
      " 'pigeonpeas' 'pomegranate' 'cotton' 'chickpea' 'blackgram' 'coconut'\n",
      " 'mango' 'chickpea' 'papaya' 'rice' 'lentil' 'rice' 'pigeonpeas' 'maize'\n",
      " 'grapes' 'pigeonpeas' 'apple' 'orange' 'grapes' 'mango' 'mango' 'orange'\n",
      " 'coffee' 'kidneybeans' 'jute' 'mothbeans' 'pomegranate' 'rice' 'cotton'\n",
      " 'muskmelon' 'banana' 'coffee' 'coconut' 'mungbean' 'apple' 'lentil'\n",
      " 'papaya' 'mango' 'lentil' 'cotton' 'orange' 'lentil' 'lentil'\n",
      " 'watermelon' 'coconut' 'orange' 'banana' 'coffee' 'cotton' 'jute'\n",
      " 'coconut' 'blackgram' 'cotton' 'pomegranate' 'papaya' 'pigeonpeas'\n",
      " 'mothbeans' 'mango' 'grapes' 'watermelon' 'apple' 'coffee' 'coconut'\n",
      " 'papaya' 'muskmelon' 'coconut' 'muskmelon']\n"
     ]
    }
   ],
   "source": [
    "print(y_test)\n"
   ]
  },
  {
   "cell_type": "code",
   "execution_count": 12,
   "id": "e2c5f9f9",
   "metadata": {},
   "outputs": [],
   "source": [
    "from sklearn.preprocessing import StandardScaler\n",
    "sc = StandardScaler()\n",
    "X_train=sc.fit_transform(X_train)\n"
   ]
  },
  {
   "cell_type": "code",
   "execution_count": 13,
   "id": "7daea236",
   "metadata": {},
   "outputs": [
    {
     "name": "stdout",
     "output_type": "stream",
     "text": [
      "[[ 0.25321203  0.2281757   0.59413512 ... -2.34157276 -0.19226354\n",
      "  -0.16363251]\n",
      " [ 1.19357864 -0.44286814 -0.23752804 ...  0.52194349 -1.17095166\n",
      "   3.33526331]\n",
      " [-1.35884502  2.11929924  3.10892611 ...  0.96555311 -0.87363116\n",
      "   0.33222452]\n",
      " ...\n",
      " [-0.39161079 -0.74788806 -0.69296263 ...  0.87301268  1.76620685\n",
      "   0.12392374]\n",
      " [-0.8752279  -1.20541795 -0.73256563 ...  0.83190754  0.110323\n",
      "   0.25896181]\n",
      " [-0.36474317 -1.47993588 -0.27713105 ...  1.00536133 -0.88911964\n",
      "   0.90476364]]\n"
     ]
    }
   ],
   "source": [
    "print(X_train)"
   ]
  },
  {
   "cell_type": "code",
   "execution_count": 14,
   "id": "47ef5486",
   "metadata": {},
   "outputs": [],
   "source": [
    "X_test=sc.fit_transform(X_test)\n"
   ]
  },
  {
   "cell_type": "code",
   "execution_count": 15,
   "id": "6971c444",
   "metadata": {},
   "outputs": [
    {
     "name": "stdout",
     "output_type": "stream",
     "text": [
      "[[-0.54593574  0.45246271 -0.07355299 ...  0.83716015  0.58147425\n",
      "   1.61997475]\n",
      " [-1.41575976 -0.88148037 -0.65984493 ...  0.98164753  1.42844366\n",
      "   0.0794735 ]\n",
      " [-0.77040645 -1.35577124 -0.2885267  ...  0.90058997 -0.81165105\n",
      "   0.51228265]\n",
      " ...\n",
      " [ 1.19371231 -0.91112355 -0.01492379 ...  0.900533    0.3745778\n",
      "  -1.48906069]\n",
      " [-1.05099485 -0.73326447 -0.30806976 ...  1.08121056 -1.02334378\n",
      "   0.81452946]\n",
      " [ 1.22177115 -1.4150576   0.12187766 ...  0.91670604 -0.5120073\n",
      "  -1.40026176]]\n"
     ]
    }
   ],
   "source": [
    "print(X_test)"
   ]
  },
  {
   "cell_type": "code",
   "execution_count": 16,
   "id": "dc01f803",
   "metadata": {},
   "outputs": [
    {
     "name": "stderr",
     "output_type": "stream",
     "text": [
      "C:\\Users\\HP\\anaconda3\\lib\\site-packages\\sklearn\\linear_model\\_logistic.py:814: ConvergenceWarning: lbfgs failed to converge (status=1):\n",
      "STOP: TOTAL NO. of ITERATIONS REACHED LIMIT.\n",
      "\n",
      "Increase the number of iterations (max_iter) or scale the data as shown in:\n",
      "    https://scikit-learn.org/stable/modules/preprocessing.html\n",
      "Please also refer to the documentation for alternative solver options:\n",
      "    https://scikit-learn.org/stable/modules/linear_model.html#logistic-regression\n",
      "  n_iter_i = _check_optimize_result(\n"
     ]
    },
    {
     "data": {
      "text/plain": [
       "LogisticRegression()"
      ]
     },
     "execution_count": 16,
     "metadata": {},
     "output_type": "execute_result"
    }
   ],
   "source": [
    "from sklearn.linear_model import LogisticRegression\n",
    "classifier=LogisticRegression()\n",
    "classifier.fit(X_train,y_train)"
   ]
  },
  {
   "cell_type": "code",
   "execution_count": 17,
   "id": "fdc4b3b6",
   "metadata": {},
   "outputs": [
    {
     "name": "stdout",
     "output_type": "stream",
     "text": [
      "['maize']\n"
     ]
    }
   ],
   "source": [
    "print(classifier.predict(sc.transform([[70, 44, 19, 23.3169, 73.4542, 5.85261, 94.2971 ]])))"
   ]
  },
  {
   "cell_type": "code",
   "execution_count": 18,
   "id": "01462508",
   "metadata": {},
   "outputs": [],
   "source": [
    "y_pred=classifier.predict(X_test)"
   ]
  },
  {
   "cell_type": "code",
   "execution_count": 19,
   "id": "9f41b2fd",
   "metadata": {},
   "outputs": [
    {
     "name": "stdout",
     "output_type": "stream",
     "text": [
      "[[17  0  0  0  0  0  0  0  0  0  0  0  0  0  0  0  0  0  0  0  0  0]\n",
      " [ 0 14  0  0  0  0  0  0  0  0  0  0  0  0  0  0  0  0  0  0  0  0]\n",
      " [ 0  0 19  0  0  0  0  0  0  0  0  0  0  0  0  0  0  0  0  0  0  0]\n",
      " [ 0  0  0 22  0  0  0  0  0  0  0  0  0  0  0  0  0  0  0  0  0  0]\n",
      " [ 0  0  0  0 26  0  0  0  0  0  0  0  0  0  0  0  0  0  0  0  0  0]\n",
      " [ 0  0  0  0  0 25  0  0  0  0  0  0  0  0  0  0  0  0  0  0  0  0]\n",
      " [ 0  0  0  0  0  0 17  0  0  0  0  0  0  0  0  0  0  0  0  0  0  0]\n",
      " [ 0  0  0  0  0  0  0 24  0  0  0  0  0  0  0  0  0  0  0  0  0  0]\n",
      " [ 0  0  0  0  0  0  0  0 17  0  0  0  0  0  0  0  0  1  0  0  0  0]\n",
      " [ 0  0  0  0  0  0  0  0  0 21  0  0  0  0  0  0  0  0  0  0  0  0]\n",
      " [ 0  0  0  0  0  0  0  0  0  0 19  0  0  0  0  0  0  0  0  0  0  0]\n",
      " [ 0  0  0  0  0  0  1  0  0  0  0 18  0  0  0  0  0  0  0  0  0  0]\n",
      " [ 0  0  0  0  0  0  0  0  0  0  0  0 21  0  0  0  0  0  0  0  0  0]\n",
      " [ 0  0  1  0  0  0  0  0  0  0  0  0  0 17  0  0  0  0  0  0  0  0]\n",
      " [ 0  0  0  0  0  0  0  0  0  0  0  0  0  0 16  0  0  0  0  0  0  0]\n",
      " [ 0  0  0  0  0  0  0  0  0  0  0  0  0  0  0 23  0  0  0  0  0  0]\n",
      " [ 0  0  0  0  1  0  0  0  0  0  0  0  0  0  0  0 20  0  0  0  0  0]\n",
      " [ 0  0  0  0  0  0  0  0  0  0  0  0  0  0  0  0  0 16  0  0  1  0]\n",
      " [ 0  0  1  0  0  0  0  0  0  0  0  0  0  0  0  0  0  0 20  0  0  0]\n",
      " [ 0  0  0  0  0  0  0  0  0  0  0  0  0  0  0  0  0  0  0 18  0  0]\n",
      " [ 0  0  0  0  0  0  0  0  6  0  0  0  0  0  0  0  0  0  0  0 17  0]\n",
      " [ 0  0  0  0  0  0  0  0  0  0  0  0  0  0  0  0  0  0  0  0  0 21]]\n"
     ]
    }
   ],
   "source": [
    "from sklearn.metrics import confusion_matrix, accuracy_score,classification_report\n",
    "cm=confusion_matrix(y_test, y_pred)\n",
    "print(cm)"
   ]
  },
  {
   "cell_type": "code",
   "execution_count": 20,
   "id": "3ac98eda",
   "metadata": {},
   "outputs": [
    {
     "data": {
      "text/plain": [
       "0.9727272727272728"
      ]
     },
     "execution_count": 20,
     "metadata": {},
     "output_type": "execute_result"
    }
   ],
   "source": [
    "accuracy_score(y_test, y_pred)"
   ]
  },
  {
   "cell_type": "code",
   "execution_count": 21,
   "id": "f7589e5b",
   "metadata": {},
   "outputs": [
    {
     "name": "stdout",
     "output_type": "stream",
     "text": [
      "              precision    recall  f1-score   support\n",
      "\n",
      "       apple       1.00      1.00      1.00        17\n",
      "      banana       1.00      1.00      1.00        14\n",
      "   blackgram       0.90      1.00      0.95        19\n",
      "    chickpea       1.00      1.00      1.00        22\n",
      "     coconut       0.96      1.00      0.98        26\n",
      "      coffee       1.00      1.00      1.00        25\n",
      "      cotton       0.94      1.00      0.97        17\n",
      "      grapes       1.00      1.00      1.00        24\n",
      "        jute       0.74      0.94      0.83        18\n",
      " kidneybeans       1.00      1.00      1.00        21\n",
      "      lentil       1.00      1.00      1.00        19\n",
      "       maize       1.00      0.95      0.97        19\n",
      "       mango       1.00      1.00      1.00        21\n",
      "   mothbeans       1.00      0.94      0.97        18\n",
      "    mungbean       1.00      1.00      1.00        16\n",
      "   muskmelon       1.00      1.00      1.00        23\n",
      "      orange       1.00      0.95      0.98        21\n",
      "      papaya       0.94      0.94      0.94        17\n",
      "  pigeonpeas       1.00      0.95      0.98        21\n",
      " pomegranate       1.00      1.00      1.00        18\n",
      "        rice       0.94      0.74      0.83        23\n",
      "  watermelon       1.00      1.00      1.00        21\n",
      "\n",
      "    accuracy                           0.97       440\n",
      "   macro avg       0.97      0.97      0.97       440\n",
      "weighted avg       0.98      0.97      0.97       440\n",
      "\n"
     ]
    }
   ],
   "source": [
    "print(classification_report(y_test, y_pred))"
   ]
  },
  {
   "cell_type": "code",
   "execution_count": null,
   "id": "99358191",
   "metadata": {},
   "outputs": [],
   "source": []
  },
  {
   "cell_type": "code",
   "execution_count": null,
   "id": "f804d305",
   "metadata": {},
   "outputs": [],
   "source": []
  }
 ],
 "metadata": {
  "kernelspec": {
   "display_name": "Python 3 (ipykernel)",
   "language": "python",
   "name": "python3"
  },
  "language_info": {
   "codemirror_mode": {
    "name": "ipython",
    "version": 3
   },
   "file_extension": ".py",
   "mimetype": "text/x-python",
   "name": "python",
   "nbconvert_exporter": "python",
   "pygments_lexer": "ipython3",
   "version": "3.9.12"
  }
 },
 "nbformat": 4,
 "nbformat_minor": 5
}
